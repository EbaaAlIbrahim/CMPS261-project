{
  "nbformat": 4,
  "nbformat_minor": 0,
  "metadata": {
    "colab": {
      "provenance": []
    },
    "kernelspec": {
      "name": "python3",
      "display_name": "Python 3"
    },
    "language_info": {
      "name": "python"
    }
  },
  "cells": [
    {
      "cell_type": "code",
      "source": [
        "import numpy as np\n",
        "from sklearn.linear_model import LogisticRegression\n",
        "from sklearn.model_selection import train_test_split\n",
        "from sklearn import metrics\n",
        "import pandas as pd\n",
        "import math\n",
        "import matplotlib.pyplot as plt\n",
        "import seaborn as sns\n",
        "from sklearn.metrics import accuracy_score\n",
        "from sklearn.neural_network import MLPClassifier\n",
        "from sklearn.metrics import accuracy_score\n",
        "%matplotlib inline \n"
      ],
      "metadata": {
        "id": "tDaxlO45tOtR"
      },
      "execution_count": null,
      "outputs": []
    },
    {
      "cell_type": "code",
      "source": [
        "\n",
        "\n",
        "# read data from the Excel file\n",
        "data = pd.read_csv('HIGGS_train.csv')\n",
        "\n",
        "# Set the column names\n",
        "column_names = ['class label', 'lepton pT', 'lepton eta', 'lepton phi', 'missing energy magnitude', \n",
        "                'missing energy phi', 'jet 1 pt', 'jet 1 eta', 'jet 1 phi', 'jet 1 b-tag', \n",
        "                'jet 2 pt', 'jet 2 eta', 'jet 2 phi', 'jet 2 b-tag', 'jet 3 pt', 'jet 3 eta', \n",
        "                'jet 3 phi', 'jet 3 b-tag', 'jet 4 pt', 'jet 4 eta', 'jet 4 phi', 'jet 4 b-tag', \n",
        "                'm jj', 'm jjj', 'm lv', 'm jlv', 'm bb', 'm wbb', 'm wwbb']\n",
        "\n",
        "data.columns = column_names\n"
      ],
      "metadata": {
        "id": "A7Se11b9tXc6"
      },
      "execution_count": null,
      "outputs": []
    },
    {
      "cell_type": "code",
      "source": [
        "\n",
        "for col in data.columns:\n",
        "    n_miss = data[col].isnull().sum()\n",
        "    perc = n_miss / data.shape[0] * 100\n",
        "    print('> %s, Missing: %d (%.1f%%)' % (col, n_miss, perc))\n"
      ],
      "metadata": {
        "id": "4tmicN9otfmX"
      },
      "execution_count": null,
      "outputs": []
    },
    {
      "cell_type": "code",
      "source": [
        "from numpy import NAN\n",
        "# remove NAs values:\n",
        "data=data.dropna()\n",
        "for col in data.columns:\n",
        "    n_miss = data[col].isnull().sum()\n",
        "    perc = n_miss / data.shape[0] * 100\n",
        "    print('> %s, Missing: %d (%.1f%%)' % (col, n_miss, perc))"
      ],
      "metadata": {
        "id": "xPAFyKqntkBm"
      },
      "execution_count": null,
      "outputs": []
    },
    {
      "cell_type": "code",
      "source": [
        "for i in data.columns:\n",
        "\n",
        "  data[i] = pd.to_numeric(data[i], errors='coerce') # errors will convert non convertable data to NAN\n",
        "\n",
        "# drop rows with NaN values\n",
        "data.dropna(inplace=True)"
      ],
      "metadata": {
        "id": "bnwi_m7ftpP8"
      },
      "execution_count": null,
      "outputs": []
    },
    {
      "cell_type": "code",
      "source": [
        "X_train, X_test, y_train, y_test = train_test_split(data.iloc[:, 1:], data.iloc[:,0],test_size=0.2,random_state=7651)\n"
      ],
      "metadata": {
        "id": "BWdLLiE9trYs"
      },
      "execution_count": null,
      "outputs": []
    },
    {
      "cell_type": "code",
      "execution_count": null,
      "metadata": {
        "id": "T5TvsZids3Z5"
      },
      "outputs": [],
      "source": [
        "def build(solver,penalty, C ):\n",
        "  logreg = LogisticRegression(solver=solver,penalty=penalty, C=C )\n",
        "  logreg.fit(X_train, y_train)\n",
        "  y_pred = logreg.predict(X_test)\n",
        "  accuracy = accuracy_score(y_test, y_pred)\n",
        "  return (accuracy_score(y_train,logreg.predict(X_train)),accuracy)\n",
        "\n",
        "\n",
        "solvers = ['newton-cg', 'lbfgs', 'liblinear']\n",
        "penalties = ['l1', 'l2' , 'none']\n",
        "C_values = [0.1, 1.0, 3]\n",
        "\n",
        "\n",
        "results_table = pd.DataFrame(columns=['Solver', 'Penalty', 'C', 'Train Accuracy', 'Test Accuracy'])\n",
        "\n",
        "\n",
        "for solver in solvers:\n",
        "    for penalty in penalties:\n",
        "      if solver == solvers[0]:\n",
        "        if penalty in [penalties[1],penalties[-1]]:\n",
        "          for C in C_values:\n",
        "              train_acc, test_acc = build(solver=solver, penalty=penalty, C=C)\n",
        "              \n",
        "              results_table = results_table.append({\n",
        "                  'Solver': solver,\n",
        "                  'Penalty': penalty,\n",
        "                  'C': C,\n",
        "                  'Train Accuracy': train_acc,\n",
        "                  'Test Accuracy': test_acc\n",
        "              }, ignore_index=True)\n",
        "      elif solver==solvers[1]:\n",
        "        if penalty in [penalties[-1]]:\n",
        "          for C in C_values:\n",
        "              train_acc, test_acc = build(solver=solver, penalty=penalty, C=C)\n",
        "              results_table = results_table.append({\n",
        "                  'Solver': solver,\n",
        "                  'Penalty': penalty,\n",
        "                  'C': C,\n",
        "                  'Train Accuracy': train_acc,\n",
        "                  'Test Accuracy': test_acc\n",
        "              }, ignore_index=True)\n",
        "      elif solver == solvers[-1] and penalty != penalties[-1]:\n",
        "        for C in C_values:\n",
        "              train_acc, test_acc = build(solver=solver, penalty=penalty, C=C)\n",
        "              results_table = results_table.append({\n",
        "                  'Solver': solver,\n",
        "                  'Penalty': penalty,\n",
        "                  'C': C,\n",
        "                  'Train Accuracy': train_acc,\n",
        "                  'Test Accuracy': test_acc\n",
        "              }, ignore_index=True)\n",
        "        else:\n",
        "            pass\n",
        "\n",
        "print(results_table)"
      ]
    },
    {
      "cell_type": "code",
      "source": [
        "# MLPClassifier:\n",
        "\n",
        "model =  MLPClassifier(hidden_layer_sizes=(100,50,1),activation='relu',solver='adam')\n",
        "model.fit(X_train,y_train)\n",
        "model_predict=model.predict(X_test)\n",
        "print('accuracy of model is:',accuracy_score(y_test,model_predict))"
      ],
      "metadata": {
        "id": "Ig2d1QHiwaGg"
      },
      "execution_count": null,
      "outputs": []
    },
    {
      "cell_type": "code",
      "execution_count": null,
      "metadata": {
        "id": "6BEZSVGAsMIy"
      },
      "outputs": [],
      "source": [
        "model =  MLPClassifier(hidden_layer_sizes=(100,50,55,345,30),activation='relu',solver='adam',alpha=0.01,random_state=7651)\n",
        "model.fit(X_train,y_train)\n",
        "model_predict=model.predict(X_test)\n"
      ]
    },
    {
      "cell_type": "code",
      "execution_count": null,
      "metadata": {
        "colab": {
          "base_uri": "https://localhost:8080/"
        },
        "id": "5rH4eiug6L_6",
        "outputId": "88dc09db-3dc6-4b39-b37d-aae03e0bc18a"
      },
      "outputs": [
        {
          "name": "stdout",
          "output_type": "stream",
          "text": [
            "accuracy of model is: 0.62595\n"
          ]
        }
      ],
      "source": [
        "print('accuracy of model is:',accuracy_score(y_test[:20000],model_predict))"
      ]
    },
    {
      "cell_type": "code",
      "execution_count": null,
      "metadata": {
        "id": "yW_rLjBy6YM5"
      },
      "outputs": [],
      "source": [
        "model =  MLPClassifier(hidden_layer_sizes=(100,50,40,30,1),activation='relu',solver='adam')\n",
        "model.fit(X_train[:40000],y_train[:40000])\n",
        "model_predict=model.predict(X_test[:40000])\n",
        "print('accuracy of model is:',accuracy_score(y_test[:40000],model_predict))"
      ]
    },
    {
      "cell_type": "code",
      "source": [
        "model =  MLPClassifier(hidden_layer_sizes=(100,50,55,45,10),activation='relu',solver='adam',alpha=.01,random_state=9651)\n",
        "model.fit(X_train,y_train)\n",
        "model_predict=model.predict(X_test)\n",
        "model_predict_train=model.predict(X_train)\n",
        "print('training accuracy of model is:',accuracy_score(y_train,model_predict_train))\n",
        "print('testing accuracy of model is:',accuracy_score(y_test,model_predict))"
      ],
      "metadata": {
        "id": "ptnQRCZFwfey"
      },
      "execution_count": null,
      "outputs": []
    },
    {
      "cell_type": "code",
      "source": [
        "model =  MLPClassifier(hidden_layer_sizes=(100,50,1),activation='relu',solver='adam',alpha=.1,random_state=987218764)\n",
        "model.fit(X_train,y_train)\n",
        "model_predict=model.predict(X_test)\n",
        "model_predict_train=model.predict(X_train)\n",
        "print('training accuracy of model is:',accuracy_score(y_train,model_predict_train))\n",
        "print('testing accuracy of model is:',accuracy_score(y_test,model_predict))"
      ],
      "metadata": {
        "id": "5w6jnIOqwioS"
      },
      "execution_count": null,
      "outputs": []
    }
  ]
}